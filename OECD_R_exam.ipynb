{
 "cells": [
  {
   "cell_type": "markdown",
   "metadata": {},
   "source": [
    "# Exam\n",
    "\n",
    "In this exam, we will work with the \"frequently requested health data” from the OECD.\n",
    "Your task is to compute a simple “efficiency score” and make three plots. \n",
    "\n",
    "\n",
    "You will earn a higher grade if you provide nicer graphs.  \n"
   ]
  },
  {
   "cell_type": "markdown",
   "metadata": {},
   "source": [
    "Now you need to call the libaries\n",
    "\n",
    "* ggplot2\n",
    "* dplyr\n",
    "\n"
   ]
  },
  {
   "cell_type": "code",
   "execution_count": 70,
   "metadata": {
    "collapsed": false
   },
   "outputs": [],
   "source": [
    "library(ggplot2)\n",
    "library(dplyr)"
   ]
  },
  {
   "cell_type": "markdown",
   "metadata": {},
   "source": [
    "Now you have to read the de data that we have cleaned during tutorial 3. The csv file is called oecddata.csv"
   ]
  },
  {
   "cell_type": "code",
   "execution_count": 71,
   "metadata": {
    "collapsed": true
   },
   "outputs": [],
   "source": [
    "oecd <-read.csv2(\"oecddata.csv\", sep=';')"
   ]
  },
  {
   "cell_type": "markdown",
   "metadata": {},
   "source": [
    "To see how the data look like, use the command:\n",
    "\n",
    "head(oecd)\n",
    "\n",
    "With the command\n",
    "\n",
    "oecd\n",
    "\n",
    "\n",
    "You can see the dataset in total."
   ]
  },
  {
   "cell_type": "code",
   "execution_count": 72,
   "metadata": {
    "collapsed": false
   },
   "outputs": [
    {
     "data": {
      "text/html": [
       "<table>\n",
       "<thead><tr><th scope=col>X</th><th scope=col>Country</th><th scope=col>Year</th><th scope=col>Cost</th><th scope=col>LE</th></tr></thead>\n",
       "<tbody>\n",
       "\t<tr><td>1        </td><td>Australia</td><td>2005     </td><td>2842.132 </td><td>80.9     </td></tr>\n",
       "\t<tr><td>2        </td><td>Australia</td><td>2006     </td><td>3023.098 </td><td>81.1     </td></tr>\n",
       "\t<tr><td>3        </td><td>Australia</td><td>2007     </td><td>3196.226 </td><td>81.4     </td></tr>\n",
       "\t<tr><td>4        </td><td>Australia</td><td>2008     </td><td>3310.171 </td><td>81.5     </td></tr>\n",
       "\t<tr><td>5        </td><td>Australia</td><td>2009     </td><td>3564.405 </td><td>81.6     </td></tr>\n",
       "\t<tr><td>6        </td><td>Australia</td><td>2010     </td><td>3607.341 </td><td>81.8     </td></tr>\n",
       "</tbody>\n",
       "</table>\n"
      ],
      "text/latex": [
       "\\begin{tabular}{r|lllll}\n",
       " X & Country & Year & Cost & LE\\\\\n",
       "\\hline\n",
       "\t 1         & Australia & 2005      & 2842.132  & 80.9     \\\\\n",
       "\t 2         & Australia & 2006      & 3023.098  & 81.1     \\\\\n",
       "\t 3         & Australia & 2007      & 3196.226  & 81.4     \\\\\n",
       "\t 4         & Australia & 2008      & 3310.171  & 81.5     \\\\\n",
       "\t 5         & Australia & 2009      & 3564.405  & 81.6     \\\\\n",
       "\t 6         & Australia & 2010      & 3607.341  & 81.8     \\\\\n",
       "\\end{tabular}\n"
      ],
      "text/markdown": [
       "\n",
       "X | Country | Year | Cost | LE | \n",
       "|---|---|---|---|---|---|\n",
       "| 1         | Australia | 2005      | 2842.132  | 80.9      | \n",
       "| 2         | Australia | 2006      | 3023.098  | 81.1      | \n",
       "| 3         | Australia | 2007      | 3196.226  | 81.4      | \n",
       "| 4         | Australia | 2008      | 3310.171  | 81.5      | \n",
       "| 5         | Australia | 2009      | 3564.405  | 81.6      | \n",
       "| 6         | Australia | 2010      | 3607.341  | 81.8      | \n",
       "\n",
       "\n"
      ],
      "text/plain": [
       "  X Country   Year Cost     LE  \n",
       "1 1 Australia 2005 2842.132 80.9\n",
       "2 2 Australia 2006 3023.098 81.1\n",
       "3 3 Australia 2007 3196.226 81.4\n",
       "4 4 Australia 2008 3310.171 81.5\n",
       "5 5 Australia 2009 3564.405 81.6\n",
       "6 6 Australia 2010 3607.341 81.8"
      ]
     },
     "metadata": {},
     "output_type": "display_data"
    }
   ],
   "source": [
    "head(oecd)"
   ]
  },
  {
   "cell_type": "markdown",
   "metadata": {},
   "source": [
    "## Graphs"
   ]
  },
  {
   "cell_type": "markdown",
   "metadata": {},
   "source": [
    "To make the graphs we need to make selections of the data. Please use \"dplyr\" (commands \"select\" and \"filter\") and the \"pipe\". The first assignment is to make a scatterplot using \"ggplot\". The graph contains data for all countries for the year 2014. Therefore make a dataframe with dplyr first, called \"graph1\" with the required data.\n",
    "Then, make a scatterplot with \"Cost\" on the x-axis and \"LE\" on the y-axis. You have to add a regression line with a shaded area for the confidence interval."
   ]
  },
  {
   "cell_type": "code",
   "execution_count": 6,
   "metadata": {
    "collapsed": false
   },
   "outputs": [
    {
     "data": {
      "text/html": [
       "<table>\n",
       "<thead><tr><th scope=col>X</th><th scope=col>Country</th><th scope=col>Year</th><th scope=col>Cost</th><th scope=col>LE</th></tr></thead>\n",
       "<tbody>\n",
       "\t<tr><td> 10            </td><td>Australia      </td><td>2014           </td><td>4206.8516      </td><td>82.4           </td></tr>\n",
       "\t<tr><td> 21            </td><td>Austria        </td><td>2014           </td><td>4895.9992      </td><td>81.6           </td></tr>\n",
       "\t<tr><td> 32            </td><td>Belgium        </td><td>2014           </td><td>4522.0450      </td><td>81.4           </td></tr>\n",
       "\t<tr><td> 43            </td><td>Canada         </td><td>2014           </td><td>4491.7648      </td><td>  NA           </td></tr>\n",
       "\t<tr><td> 54            </td><td>Chile          </td><td>2014           </td><td>1688.5233      </td><td>79.0           </td></tr>\n",
       "\t<tr><td> 65            </td><td>Czech Republic </td><td>2014           </td><td>2386.3385      </td><td>78.9           </td></tr>\n",
       "\t<tr><td> 76            </td><td>Denmark        </td><td>2014           </td><td>4857.0285      </td><td>80.8           </td></tr>\n",
       "\t<tr><td> 87            </td><td>Estonia        </td><td>2014           </td><td>1724.5100      </td><td>77.2           </td></tr>\n",
       "\t<tr><td> 98            </td><td>Finland        </td><td>2014           </td><td>3870.4000      </td><td>81.3           </td></tr>\n",
       "\t<tr><td>109            </td><td>France         </td><td>2014           </td><td>4366.9864      </td><td>82.8           </td></tr>\n",
       "\t<tr><td>120            </td><td>Germany        </td><td>2014           </td><td>5119.2146      </td><td>81.2           </td></tr>\n",
       "\t<tr><td>131            </td><td>Greece         </td><td>2014           </td><td>2220.1065      </td><td>81.5           </td></tr>\n",
       "\t<tr><td>142            </td><td>Hungary        </td><td>2014           </td><td>1796.6034      </td><td>75.9           </td></tr>\n",
       "\t<tr><td>153            </td><td>Iceland        </td><td>2014           </td><td>3896.9251      </td><td>82.9           </td></tr>\n",
       "\t<tr><td>164            </td><td>Ireland        </td><td>2014           </td><td>5001.3220      </td><td>81.4           </td></tr>\n",
       "\t<tr><td>175            </td><td>Israel         </td><td>2014           </td><td>2547.4010      </td><td>82.2           </td></tr>\n",
       "\t<tr><td>186            </td><td>Italy          </td><td>2014           </td><td>3206.8286      </td><td>83.2           </td></tr>\n",
       "\t<tr><td>197            </td><td>Japan          </td><td>2014           </td><td>4152.3727      </td><td>83.7           </td></tr>\n",
       "\t<tr><td>208            </td><td>Korea          </td><td>2014           </td><td>2361.4400      </td><td>82.2           </td></tr>\n",
       "\t<tr><td>219            </td><td>Latvia         </td><td>2014           </td><td>1295.0128      </td><td>74.3           </td></tr>\n",
       "\t<tr><td>230            </td><td>Luxembourg     </td><td>2014           </td><td>6682.2370      </td><td>82.3           </td></tr>\n",
       "\t<tr><td>241            </td><td>Mexico         </td><td>2014           </td><td>1035.3389      </td><td>74.8           </td></tr>\n",
       "\t<tr><td>252            </td><td>Netherlands    </td><td>2014           </td><td>5276.6003      </td><td>81.8           </td></tr>\n",
       "\t<tr><td>263            </td><td>New Zealand    </td><td>2014           </td><td>3537.2568      </td><td>81.6           </td></tr>\n",
       "\t<tr><td>274            </td><td>Norway         </td><td>2014           </td><td>6080.9980      </td><td>82.2           </td></tr>\n",
       "\t<tr><td>285            </td><td>Poland         </td><td>2014           </td><td>1624.8655      </td><td>77.7           </td></tr>\n",
       "\t<tr><td>296            </td><td>Portugal       </td><td>2014           </td><td>2583.8438      </td><td>81.2           </td></tr>\n",
       "\t<tr><td>307            </td><td>Slovak Republic</td><td>2014           </td><td>1970.5230      </td><td>76.9           </td></tr>\n",
       "\t<tr><td>318            </td><td>Slovenia       </td><td>2014           </td><td>2598.9066      </td><td>81.2           </td></tr>\n",
       "\t<tr><td>329            </td><td>Spain          </td><td>2014           </td><td>3053.0745      </td><td>83.3           </td></tr>\n",
       "\t<tr><td>340            </td><td>Sweden         </td><td>2014           </td><td>5065.1613      </td><td>82.3           </td></tr>\n",
       "\t<tr><td>351            </td><td>Switzerland    </td><td>2014           </td><td>6786.5657      </td><td>83.3           </td></tr>\n",
       "\t<tr><td>362            </td><td>Turkey         </td><td>2014           </td><td> 990.1908      </td><td>78.0           </td></tr>\n",
       "\t<tr><td>373            </td><td>United Kingdom </td><td>2014           </td><td>3971.3940      </td><td>81.4           </td></tr>\n",
       "\t<tr><td>384            </td><td>United States  </td><td>2014           </td><td>9024.2064      </td><td>78.8           </td></tr>\n",
       "</tbody>\n",
       "</table>\n"
      ],
      "text/latex": [
       "\\begin{tabular}{r|lllll}\n",
       " X & Country & Year & Cost & LE\\\\\n",
       "\\hline\n",
       "\t  10             & Australia       & 2014            & 4206.8516       & 82.4           \\\\\n",
       "\t  21             & Austria         & 2014            & 4895.9992       & 81.6           \\\\\n",
       "\t  32             & Belgium         & 2014            & 4522.0450       & 81.4           \\\\\n",
       "\t  43             & Canada          & 2014            & 4491.7648       &   NA           \\\\\n",
       "\t  54             & Chile           & 2014            & 1688.5233       & 79.0           \\\\\n",
       "\t  65             & Czech Republic  & 2014            & 2386.3385       & 78.9           \\\\\n",
       "\t  76             & Denmark         & 2014            & 4857.0285       & 80.8           \\\\\n",
       "\t  87             & Estonia         & 2014            & 1724.5100       & 77.2           \\\\\n",
       "\t  98             & Finland         & 2014            & 3870.4000       & 81.3           \\\\\n",
       "\t 109             & France          & 2014            & 4366.9864       & 82.8           \\\\\n",
       "\t 120             & Germany         & 2014            & 5119.2146       & 81.2           \\\\\n",
       "\t 131             & Greece          & 2014            & 2220.1065       & 81.5           \\\\\n",
       "\t 142             & Hungary         & 2014            & 1796.6034       & 75.9           \\\\\n",
       "\t 153             & Iceland         & 2014            & 3896.9251       & 82.9           \\\\\n",
       "\t 164             & Ireland         & 2014            & 5001.3220       & 81.4           \\\\\n",
       "\t 175             & Israel          & 2014            & 2547.4010       & 82.2           \\\\\n",
       "\t 186             & Italy           & 2014            & 3206.8286       & 83.2           \\\\\n",
       "\t 197             & Japan           & 2014            & 4152.3727       & 83.7           \\\\\n",
       "\t 208             & Korea           & 2014            & 2361.4400       & 82.2           \\\\\n",
       "\t 219             & Latvia          & 2014            & 1295.0128       & 74.3           \\\\\n",
       "\t 230             & Luxembourg      & 2014            & 6682.2370       & 82.3           \\\\\n",
       "\t 241             & Mexico          & 2014            & 1035.3389       & 74.8           \\\\\n",
       "\t 252             & Netherlands     & 2014            & 5276.6003       & 81.8           \\\\\n",
       "\t 263             & New Zealand     & 2014            & 3537.2568       & 81.6           \\\\\n",
       "\t 274             & Norway          & 2014            & 6080.9980       & 82.2           \\\\\n",
       "\t 285             & Poland          & 2014            & 1624.8655       & 77.7           \\\\\n",
       "\t 296             & Portugal        & 2014            & 2583.8438       & 81.2           \\\\\n",
       "\t 307             & Slovak Republic & 2014            & 1970.5230       & 76.9           \\\\\n",
       "\t 318             & Slovenia        & 2014            & 2598.9066       & 81.2           \\\\\n",
       "\t 329             & Spain           & 2014            & 3053.0745       & 83.3           \\\\\n",
       "\t 340             & Sweden          & 2014            & 5065.1613       & 82.3           \\\\\n",
       "\t 351             & Switzerland     & 2014            & 6786.5657       & 83.3           \\\\\n",
       "\t 362             & Turkey          & 2014            &  990.1908       & 78.0           \\\\\n",
       "\t 373             & United Kingdom  & 2014            & 3971.3940       & 81.4           \\\\\n",
       "\t 384             & United States   & 2014            & 9024.2064       & 78.8           \\\\\n",
       "\\end{tabular}\n"
      ],
      "text/markdown": [
       "\n",
       "X | Country | Year | Cost | LE | \n",
       "|---|---|---|---|---|---|---|---|---|---|---|---|---|---|---|---|---|---|---|---|---|---|---|---|---|---|---|---|---|---|---|---|---|---|---|\n",
       "|  10             | Australia       | 2014            | 4206.8516       | 82.4            | \n",
       "|  21             | Austria         | 2014            | 4895.9992       | 81.6            | \n",
       "|  32             | Belgium         | 2014            | 4522.0450       | 81.4            | \n",
       "|  43             | Canada          | 2014            | 4491.7648       |   NA            | \n",
       "|  54             | Chile           | 2014            | 1688.5233       | 79.0            | \n",
       "|  65             | Czech Republic  | 2014            | 2386.3385       | 78.9            | \n",
       "|  76             | Denmark         | 2014            | 4857.0285       | 80.8            | \n",
       "|  87             | Estonia         | 2014            | 1724.5100       | 77.2            | \n",
       "|  98             | Finland         | 2014            | 3870.4000       | 81.3            | \n",
       "| 109             | France          | 2014            | 4366.9864       | 82.8            | \n",
       "| 120             | Germany         | 2014            | 5119.2146       | 81.2            | \n",
       "| 131             | Greece          | 2014            | 2220.1065       | 81.5            | \n",
       "| 142             | Hungary         | 2014            | 1796.6034       | 75.9            | \n",
       "| 153             | Iceland         | 2014            | 3896.9251       | 82.9            | \n",
       "| 164             | Ireland         | 2014            | 5001.3220       | 81.4            | \n",
       "| 175             | Israel          | 2014            | 2547.4010       | 82.2            | \n",
       "| 186             | Italy           | 2014            | 3206.8286       | 83.2            | \n",
       "| 197             | Japan           | 2014            | 4152.3727       | 83.7            | \n",
       "| 208             | Korea           | 2014            | 2361.4400       | 82.2            | \n",
       "| 219             | Latvia          | 2014            | 1295.0128       | 74.3            | \n",
       "| 230             | Luxembourg      | 2014            | 6682.2370       | 82.3            | \n",
       "| 241             | Mexico          | 2014            | 1035.3389       | 74.8            | \n",
       "| 252             | Netherlands     | 2014            | 5276.6003       | 81.8            | \n",
       "| 263             | New Zealand     | 2014            | 3537.2568       | 81.6            | \n",
       "| 274             | Norway          | 2014            | 6080.9980       | 82.2            | \n",
       "| 285             | Poland          | 2014            | 1624.8655       | 77.7            | \n",
       "| 296             | Portugal        | 2014            | 2583.8438       | 81.2            | \n",
       "| 307             | Slovak Republic | 2014            | 1970.5230       | 76.9            | \n",
       "| 318             | Slovenia        | 2014            | 2598.9066       | 81.2            | \n",
       "| 329             | Spain           | 2014            | 3053.0745       | 83.3            | \n",
       "| 340             | Sweden          | 2014            | 5065.1613       | 82.3            | \n",
       "| 351             | Switzerland     | 2014            | 6786.5657       | 83.3            | \n",
       "| 362             | Turkey          | 2014            |  990.1908       | 78.0            | \n",
       "| 373             | United Kingdom  | 2014            | 3971.3940       | 81.4            | \n",
       "| 384             | United States   | 2014            | 9024.2064       | 78.8            | \n",
       "\n",
       "\n"
      ],
      "text/plain": [
       "   X   Country         Year Cost      LE  \n",
       "1   10 Australia       2014 4206.8516 82.4\n",
       "2   21 Austria         2014 4895.9992 81.6\n",
       "3   32 Belgium         2014 4522.0450 81.4\n",
       "4   43 Canada          2014 4491.7648   NA\n",
       "5   54 Chile           2014 1688.5233 79.0\n",
       "6   65 Czech Republic  2014 2386.3385 78.9\n",
       "7   76 Denmark         2014 4857.0285 80.8\n",
       "8   87 Estonia         2014 1724.5100 77.2\n",
       "9   98 Finland         2014 3870.4000 81.3\n",
       "10 109 France          2014 4366.9864 82.8\n",
       "11 120 Germany         2014 5119.2146 81.2\n",
       "12 131 Greece          2014 2220.1065 81.5\n",
       "13 142 Hungary         2014 1796.6034 75.9\n",
       "14 153 Iceland         2014 3896.9251 82.9\n",
       "15 164 Ireland         2014 5001.3220 81.4\n",
       "16 175 Israel          2014 2547.4010 82.2\n",
       "17 186 Italy           2014 3206.8286 83.2\n",
       "18 197 Japan           2014 4152.3727 83.7\n",
       "19 208 Korea           2014 2361.4400 82.2\n",
       "20 219 Latvia          2014 1295.0128 74.3\n",
       "21 230 Luxembourg      2014 6682.2370 82.3\n",
       "22 241 Mexico          2014 1035.3389 74.8\n",
       "23 252 Netherlands     2014 5276.6003 81.8\n",
       "24 263 New Zealand     2014 3537.2568 81.6\n",
       "25 274 Norway          2014 6080.9980 82.2\n",
       "26 285 Poland          2014 1624.8655 77.7\n",
       "27 296 Portugal        2014 2583.8438 81.2\n",
       "28 307 Slovak Republic 2014 1970.5230 76.9\n",
       "29 318 Slovenia        2014 2598.9066 81.2\n",
       "30 329 Spain           2014 3053.0745 83.3\n",
       "31 340 Sweden          2014 5065.1613 82.3\n",
       "32 351 Switzerland     2014 6786.5657 83.3\n",
       "33 362 Turkey          2014  990.1908 78.0\n",
       "34 373 United Kingdom  2014 3971.3940 81.4\n",
       "35 384 United States   2014 9024.2064 78.8"
      ]
     },
     "metadata": {},
     "output_type": "display_data"
    }
   ],
   "source": [
    "graph1"
   ]
  },
  {
   "cell_type": "code",
   "execution_count": 5,
   "metadata": {
    "collapsed": false
   },
   "outputs": [],
   "source": [
    "graph1 <- filter(oecd, Year== 2014)"
   ]
  },
  {
   "cell_type": "code",
   "execution_count": 7,
   "metadata": {
    "collapsed": false
   },
   "outputs": [
    {
     "name": "stderr",
     "output_type": "stream",
     "text": [
      "Warning message:\n",
      "\"Removed 1 rows containing non-finite values (stat_smooth).\"Warning message:\n",
      "\"Removed 1 rows containing missing values (geom_point).\""
     ]
    },
    {
     "data": {},
     "metadata": {},
     "output_type": "display_data"
    },
    {
     "data": {
      "image/png": "[encoded data removed]",
      "text/plain": [
       "plot without title"
      ]
     },
     "metadata": {},
     "output_type": "display_data"
    }
   ],
   "source": [
    "ggplot(graph1, aes(x = Cost, y = LE)) + geom_point()  + geom_smooth(method=lm)"
   ]
  },
  {
   "cell_type": "markdown",
   "metadata": {},
   "source": [
    "The second assignment is to make a line graph. You will use the years 2005-2015 for 5 countries (you can choose your own countries). Make a new dataframe called graph2 with the required data. Then, make a line graph with \"Year\"  and \"Cost\" on the y-axis. There should be coloured lines per country and a legend attached. "
   ]
  },
  {
   "cell_type": "code",
   "execution_count": 8,
   "metadata": {
    "collapsed": false
   },
   "outputs": [],
   "source": [
    "graph2 <-filter(oecd, Country %in% c(\"Austria\", \"Belgium\", \"Korea\", \"Netherlands\", \"Spain\"))"
   ]
  },
  {
   "cell_type": "code",
   "execution_count": 9,
   "metadata": {
    "collapsed": false
   },
   "outputs": [
    {
     "data": {
      "text/html": [
       "<table>\n",
       "<thead><tr><th scope=col>X</th><th scope=col>Country</th><th scope=col>Year</th><th scope=col>Cost</th><th scope=col>LE</th></tr></thead>\n",
       "<tbody>\n",
       "\t<tr><td> 12        </td><td>Austria    </td><td>2005       </td><td>3324.079   </td><td>79.4       </td></tr>\n",
       "\t<tr><td> 13        </td><td>Austria    </td><td>2006       </td><td>3567.649   </td><td>80.0       </td></tr>\n",
       "\t<tr><td> 14        </td><td>Austria    </td><td>2007       </td><td>3718.739   </td><td>80.3       </td></tr>\n",
       "\t<tr><td> 15        </td><td>Austria    </td><td>2008       </td><td>3964.849   </td><td>80.5       </td></tr>\n",
       "\t<tr><td> 16        </td><td>Austria    </td><td>2009       </td><td>4119.745   </td><td>80.4       </td></tr>\n",
       "\t<tr><td> 17        </td><td>Austria    </td><td>2010       </td><td>4236.316   </td><td>80.7       </td></tr>\n",
       "\t<tr><td> 18        </td><td>Austria    </td><td>2011       </td><td>4362.343   </td><td>81.1       </td></tr>\n",
       "\t<tr><td> 19        </td><td>Austria    </td><td>2012       </td><td>4646.436   </td><td>81.0       </td></tr>\n",
       "\t<tr><td> 20        </td><td>Austria    </td><td>2013       </td><td>4806.393   </td><td>81.2       </td></tr>\n",
       "\t<tr><td> 21        </td><td>Austria    </td><td>2014       </td><td>4895.999   </td><td>81.6       </td></tr>\n",
       "\t<tr><td> 22        </td><td>Austria    </td><td>2015       </td><td>5015.637   </td><td>  NA       </td></tr>\n",
       "\t<tr><td> 23        </td><td>Belgium    </td><td>2005       </td><td>2985.809   </td><td>79.1       </td></tr>\n",
       "\t<tr><td> 24        </td><td>Belgium    </td><td>2006       </td><td>3136.916   </td><td>79.5       </td></tr>\n",
       "\t<tr><td> 25        </td><td>Belgium    </td><td>2007       </td><td>3286.225   </td><td>79.9       </td></tr>\n",
       "\t<tr><td> 26        </td><td>Belgium    </td><td>2008       </td><td>3542.354   </td><td>79.8       </td></tr>\n",
       "\t<tr><td> 27        </td><td>Belgium    </td><td>2009       </td><td>3804.764   </td><td>80.1       </td></tr>\n",
       "\t<tr><td> 28        </td><td>Belgium    </td><td>2010       </td><td>3901.913   </td><td>80.3       </td></tr>\n",
       "\t<tr><td> 29        </td><td>Belgium    </td><td>2011       </td><td>4132.311   </td><td>80.7       </td></tr>\n",
       "\t<tr><td> 30        </td><td>Belgium    </td><td>2012       </td><td>4286.412   </td><td>80.5       </td></tr>\n",
       "\t<tr><td> 31        </td><td>Belgium    </td><td>2013       </td><td>4485.480   </td><td>80.7       </td></tr>\n",
       "\t<tr><td> 32        </td><td>Belgium    </td><td>2014       </td><td>4522.045   </td><td>81.4       </td></tr>\n",
       "\t<tr><td> 33        </td><td>Belgium    </td><td>2015       </td><td>4611.252   </td><td>  NA       </td></tr>\n",
       "\t<tr><td>199        </td><td>Korea      </td><td>2005       </td><td>1220.081   </td><td>78.5       </td></tr>\n",
       "\t<tr><td>200        </td><td>Korea      </td><td>2006       </td><td>1406.621   </td><td>79.1       </td></tr>\n",
       "\t<tr><td>201        </td><td>Korea      </td><td>2007       </td><td>1566.635   </td><td>79.4       </td></tr>\n",
       "\t<tr><td>202        </td><td>Korea      </td><td>2008       </td><td>1662.969   </td><td>79.9       </td></tr>\n",
       "\t<tr><td>203        </td><td>Korea      </td><td>2009       </td><td>1791.290   </td><td>80.4       </td></tr>\n",
       "\t<tr><td>204        </td><td>Korea      </td><td>2010       </td><td>1951.326   </td><td>80.6       </td></tr>\n",
       "\t<tr><td>205        </td><td>Korea      </td><td>2011       </td><td>2029.664   </td><td>81.0       </td></tr>\n",
       "\t<tr><td>206        </td><td>Korea      </td><td>2012       </td><td>2131.933   </td><td>81.3       </td></tr>\n",
       "\t<tr><td>207        </td><td>Korea      </td><td>2013       </td><td>2224.629   </td><td>81.8       </td></tr>\n",
       "\t<tr><td>208        </td><td>Korea      </td><td>2014       </td><td>2361.440   </td><td>82.2       </td></tr>\n",
       "\t<tr><td>209        </td><td>Korea      </td><td>2015       </td><td>2487.939   </td><td>  NA       </td></tr>\n",
       "\t<tr><td>243        </td><td>Netherlands</td><td>2005       </td><td>3510.905   </td><td>79.5       </td></tr>\n",
       "\t<tr><td>244        </td><td>Netherlands</td><td>2006       </td><td>3797.268   </td><td>79.9       </td></tr>\n",
       "\t<tr><td>245        </td><td>Netherlands</td><td>2007       </td><td>4066.134   </td><td>80.3       </td></tr>\n",
       "\t<tr><td>246        </td><td>Netherlands</td><td>2008       </td><td>4398.274   </td><td>80.5       </td></tr>\n",
       "\t<tr><td>247        </td><td>Netherlands</td><td>2009       </td><td>4550.465   </td><td>80.8       </td></tr>\n",
       "\t<tr><td>248        </td><td>Netherlands</td><td>2010       </td><td>4671.010   </td><td>81.0       </td></tr>\n",
       "\t<tr><td>249        </td><td>Netherlands</td><td>2011       </td><td>4862.459   </td><td>81.3       </td></tr>\n",
       "\t<tr><td>250        </td><td>Netherlands</td><td>2012       </td><td>5044.265   </td><td>81.2       </td></tr>\n",
       "\t<tr><td>251        </td><td>Netherlands</td><td>2013       </td><td>5250.306   </td><td>81.4       </td></tr>\n",
       "\t<tr><td>252        </td><td>Netherlands</td><td>2014       </td><td>5276.600   </td><td>81.8       </td></tr>\n",
       "\t<tr><td>253        </td><td>Netherlands</td><td>2015       </td><td>5342.674   </td><td>  NA       </td></tr>\n",
       "\t<tr><td>320        </td><td>Spain      </td><td>2005       </td><td>2139.333   </td><td>80.3       </td></tr>\n",
       "\t<tr><td>321        </td><td>Spain      </td><td>2006       </td><td>2393.307   </td><td>81.1       </td></tr>\n",
       "\t<tr><td>322        </td><td>Spain      </td><td>2007       </td><td>2570.706   </td><td>81.2       </td></tr>\n",
       "\t<tr><td>323        </td><td>Spain      </td><td>2008       </td><td>2795.869   </td><td>81.5       </td></tr>\n",
       "\t<tr><td>324        </td><td>Spain      </td><td>2009       </td><td>2944.620   </td><td>81.9       </td></tr>\n",
       "\t<tr><td>325        </td><td>Spain      </td><td>2010       </td><td>2917.950   </td><td>82.4       </td></tr>\n",
       "\t<tr><td>326        </td><td>Spain      </td><td>2011       </td><td>2956.786   </td><td>82.6       </td></tr>\n",
       "\t<tr><td>327        </td><td>Spain      </td><td>2012       </td><td>2929.357   </td><td>82.5       </td></tr>\n",
       "\t<tr><td>328        </td><td>Spain      </td><td>2013       </td><td>2952.175   </td><td>83.2       </td></tr>\n",
       "\t<tr><td>329        </td><td>Spain      </td><td>2014       </td><td>3053.075   </td><td>83.3       </td></tr>\n",
       "\t<tr><td>330        </td><td>Spain      </td><td>2015       </td><td>3152.987   </td><td>  NA       </td></tr>\n",
       "</tbody>\n",
       "</table>\n"
      ],
      "text/latex": [
       "\\begin{tabular}{r|lllll}\n",
       " X & Country & Year & Cost & LE\\\\\n",
       "\\hline\n",
       "\t  12         & Austria     & 2005        & 3324.079    & 79.4       \\\\\n",
       "\t  13         & Austria     & 2006        & 3567.649    & 80.0       \\\\\n",
       "\t  14         & Austria     & 2007        & 3718.739    & 80.3       \\\\\n",
       "\t  15         & Austria     & 2008        & 3964.849    & 80.5       \\\\\n",
       "\t  16         & Austria     & 2009        & 4119.745    & 80.4       \\\\\n",
       "\t  17         & Austria     & 2010        & 4236.316    & 80.7       \\\\\n",
       "\t  18         & Austria     & 2011        & 4362.343    & 81.1       \\\\\n",
       "\t  19         & Austria     & 2012        & 4646.436    & 81.0       \\\\\n",
       "\t  20         & Austria     & 2013        & 4806.393    & 81.2       \\\\\n",
       "\t  21         & Austria     & 2014        & 4895.999    & 81.6       \\\\\n",
       "\t  22         & Austria     & 2015        & 5015.637    &   NA       \\\\\n",
       "\t  23         & Belgium     & 2005        & 2985.809    & 79.1       \\\\\n",
       "\t  24         & Belgium     & 2006        & 3136.916    & 79.5       \\\\\n",
       "\t  25         & Belgium     & 2007        & 3286.225    & 79.9       \\\\\n",
       "\t  26         & Belgium     & 2008        & 3542.354    & 79.8       \\\\\n",
       "\t  27         & Belgium     & 2009        & 3804.764    & 80.1       \\\\\n",
       "\t  28         & Belgium     & 2010        & 3901.913    & 80.3       \\\\\n",
       "\t  29         & Belgium     & 2011        & 4132.311    & 80.7       \\\\\n",
       "\t  30         & Belgium     & 2012        & 4286.412    & 80.5       \\\\\n",
       "\t  31         & Belgium     & 2013        & 4485.480    & 80.7       \\\\\n",
       "\t  32         & Belgium     & 2014        & 4522.045    & 81.4       \\\\\n",
       "\t  33         & Belgium     & 2015        & 4611.252    &   NA       \\\\\n",
       "\t 199         & Korea       & 2005        & 1220.081    & 78.5       \\\\\n",
       "\t 200         & Korea       & 2006        & 1406.621    & 79.1       \\\\\n",
       "\t 201         & Korea       & 2007        & 1566.635    & 79.4       \\\\\n",
       "\t 202         & Korea       & 2008        & 1662.969    & 79.9       \\\\\n",
       "\t 203         & Korea       & 2009        & 1791.290    & 80.4       \\\\\n",
       "\t 204         & Korea       & 2010        & 1951.326    & 80.6       \\\\\n",
       "\t 205         & Korea       & 2011        & 2029.664    & 81.0       \\\\\n",
       "\t 206         & Korea       & 2012        & 2131.933    & 81.3       \\\\\n",
       "\t 207         & Korea       & 2013        & 2224.629    & 81.8       \\\\\n",
       "\t 208         & Korea       & 2014        & 2361.440    & 82.2       \\\\\n",
       "\t 209         & Korea       & 2015        & 2487.939    &   NA       \\\\\n",
       "\t 243         & Netherlands & 2005        & 3510.905    & 79.5       \\\\\n",
       "\t 244         & Netherlands & 2006        & 3797.268    & 79.9       \\\\\n",
       "\t 245         & Netherlands & 2007        & 4066.134    & 80.3       \\\\\n",
       "\t 246         & Netherlands & 2008        & 4398.274    & 80.5       \\\\\n",
       "\t 247         & Netherlands & 2009        & 4550.465    & 80.8       \\\\\n",
       "\t 248         & Netherlands & 2010        & 4671.010    & 81.0       \\\\\n",
       "\t 249         & Netherlands & 2011        & 4862.459    & 81.3       \\\\\n",
       "\t 250         & Netherlands & 2012        & 5044.265    & 81.2       \\\\\n",
       "\t 251         & Netherlands & 2013        & 5250.306    & 81.4       \\\\\n",
       "\t 252         & Netherlands & 2014        & 5276.600    & 81.8       \\\\\n",
       "\t 253         & Netherlands & 2015        & 5342.674    &   NA       \\\\\n",
       "\t 320         & Spain       & 2005        & 2139.333    & 80.3       \\\\\n",
       "\t 321         & Spain       & 2006        & 2393.307    & 81.1       \\\\\n",
       "\t 322         & Spain       & 2007        & 2570.706    & 81.2       \\\\\n",
       "\t 323         & Spain       & 2008        & 2795.869    & 81.5       \\\\\n",
       "\t 324         & Spain       & 2009        & 2944.620    & 81.9       \\\\\n",
       "\t 325         & Spain       & 2010        & 2917.950    & 82.4       \\\\\n",
       "\t 326         & Spain       & 2011        & 2956.786    & 82.6       \\\\\n",
       "\t 327         & Spain       & 2012        & 2929.357    & 82.5       \\\\\n",
       "\t 328         & Spain       & 2013        & 2952.175    & 83.2       \\\\\n",
       "\t 329         & Spain       & 2014        & 3053.075    & 83.3       \\\\\n",
       "\t 330         & Spain       & 2015        & 3152.987    &   NA       \\\\\n",
       "\\end{tabular}\n"
      ],
      "text/markdown": [
       "\n",
       "X | Country | Year | Cost | LE | \n",
       "|---|---|---|---|---|---|---|---|---|---|---|---|---|---|---|---|---|---|---|---|---|---|---|---|---|---|---|---|---|---|---|---|---|---|---|---|---|---|---|---|---|---|---|---|---|---|---|---|---|---|---|---|---|---|---|\n",
       "|  12         | Austria     | 2005        | 3324.079    | 79.4        | \n",
       "|  13         | Austria     | 2006        | 3567.649    | 80.0        | \n",
       "|  14         | Austria     | 2007        | 3718.739    | 80.3        | \n",
       "|  15         | Austria     | 2008        | 3964.849    | 80.5        | \n",
       "|  16         | Austria     | 2009        | 4119.745    | 80.4        | \n",
       "|  17         | Austria     | 2010        | 4236.316    | 80.7        | \n",
       "|  18         | Austria     | 2011        | 4362.343    | 81.1        | \n",
       "|  19         | Austria     | 2012        | 4646.436    | 81.0        | \n",
       "|  20         | Austria     | 2013        | 4806.393    | 81.2        | \n",
       "|  21         | Austria     | 2014        | 4895.999    | 81.6        | \n",
       "|  22         | Austria     | 2015        | 5015.637    |   NA        | \n",
       "|  23         | Belgium     | 2005        | 2985.809    | 79.1        | \n",
       "|  24         | Belgium     | 2006        | 3136.916    | 79.5        | \n",
       "|  25         | Belgium     | 2007        | 3286.225    | 79.9        | \n",
       "|  26         | Belgium     | 2008        | 3542.354    | 79.8        | \n",
       "|  27         | Belgium     | 2009        | 3804.764    | 80.1        | \n",
       "|  28         | Belgium     | 2010        | 3901.913    | 80.3        | \n",
       "|  29         | Belgium     | 2011        | 4132.311    | 80.7        | \n",
       "|  30         | Belgium     | 2012        | 4286.412    | 80.5        | \n",
       "|  31         | Belgium     | 2013        | 4485.480    | 80.7        | \n",
       "|  32         | Belgium     | 2014        | 4522.045    | 81.4        | \n",
       "|  33         | Belgium     | 2015        | 4611.252    |   NA        | \n",
       "| 199         | Korea       | 2005        | 1220.081    | 78.5        | \n",
       "| 200         | Korea       | 2006        | 1406.621    | 79.1        | \n",
       "| 201         | Korea       | 2007        | 1566.635    | 79.4        | \n",
       "| 202         | Korea       | 2008        | 1662.969    | 79.9        | \n",
       "| 203         | Korea       | 2009        | 1791.290    | 80.4        | \n",
       "| 204         | Korea       | 2010        | 1951.326    | 80.6        | \n",
       "| 205         | Korea       | 2011        | 2029.664    | 81.0        | \n",
       "| 206         | Korea       | 2012        | 2131.933    | 81.3        | \n",
       "| 207         | Korea       | 2013        | 2224.629    | 81.8        | \n",
       "| 208         | Korea       | 2014        | 2361.440    | 82.2        | \n",
       "| 209         | Korea       | 2015        | 2487.939    |   NA        | \n",
       "| 243         | Netherlands | 2005        | 3510.905    | 79.5        | \n",
       "| 244         | Netherlands | 2006        | 3797.268    | 79.9        | \n",
       "| 245         | Netherlands | 2007        | 4066.134    | 80.3        | \n",
       "| 246         | Netherlands | 2008        | 4398.274    | 80.5        | \n",
       "| 247         | Netherlands | 2009        | 4550.465    | 80.8        | \n",
       "| 248         | Netherlands | 2010        | 4671.010    | 81.0        | \n",
       "| 249         | Netherlands | 2011        | 4862.459    | 81.3        | \n",
       "| 250         | Netherlands | 2012        | 5044.265    | 81.2        | \n",
       "| 251         | Netherlands | 2013        | 5250.306    | 81.4        | \n",
       "| 252         | Netherlands | 2014        | 5276.600    | 81.8        | \n",
       "| 253         | Netherlands | 2015        | 5342.674    |   NA        | \n",
       "| 320         | Spain       | 2005        | 2139.333    | 80.3        | \n",
       "| 321         | Spain       | 2006        | 2393.307    | 81.1        | \n",
       "| 322         | Spain       | 2007        | 2570.706    | 81.2        | \n",
       "| 323         | Spain       | 2008        | 2795.869    | 81.5        | \n",
       "| 324         | Spain       | 2009        | 2944.620    | 81.9        | \n",
       "| 325         | Spain       | 2010        | 2917.950    | 82.4        | \n",
       "| 326         | Spain       | 2011        | 2956.786    | 82.6        | \n",
       "| 327         | Spain       | 2012        | 2929.357    | 82.5        | \n",
       "| 328         | Spain       | 2013        | 2952.175    | 83.2        | \n",
       "| 329         | Spain       | 2014        | 3053.075    | 83.3        | \n",
       "| 330         | Spain       | 2015        | 3152.987    |   NA        | \n",
       "\n",
       "\n"
      ],
      "text/plain": [
       "   X   Country     Year Cost     LE  \n",
       "1   12 Austria     2005 3324.079 79.4\n",
       "2   13 Austria     2006 3567.649 80.0\n",
       "3   14 Austria     2007 3718.739 80.3\n",
       "4   15 Austria     2008 3964.849 80.5\n",
       "5   16 Austria     2009 4119.745 80.4\n",
       "6   17 Austria     2010 4236.316 80.7\n",
       "7   18 Austria     2011 4362.343 81.1\n",
       "8   19 Austria     2012 4646.436 81.0\n",
       "9   20 Austria     2013 4806.393 81.2\n",
       "10  21 Austria     2014 4895.999 81.6\n",
       "11  22 Austria     2015 5015.637   NA\n",
       "12  23 Belgium     2005 2985.809 79.1\n",
       "13  24 Belgium     2006 3136.916 79.5\n",
       "14  25 Belgium     2007 3286.225 79.9\n",
       "15  26 Belgium     2008 3542.354 79.8\n",
       "16  27 Belgium     2009 3804.764 80.1\n",
       "17  28 Belgium     2010 3901.913 80.3\n",
       "18  29 Belgium     2011 4132.311 80.7\n",
       "19  30 Belgium     2012 4286.412 80.5\n",
       "20  31 Belgium     2013 4485.480 80.7\n",
       "21  32 Belgium     2014 4522.045 81.4\n",
       "22  33 Belgium     2015 4611.252   NA\n",
       "23 199 Korea       2005 1220.081 78.5\n",
       "24 200 Korea       2006 1406.621 79.1\n",
       "25 201 Korea       2007 1566.635 79.4\n",
       "26 202 Korea       2008 1662.969 79.9\n",
       "27 203 Korea       2009 1791.290 80.4\n",
       "28 204 Korea       2010 1951.326 80.6\n",
       "29 205 Korea       2011 2029.664 81.0\n",
       "30 206 Korea       2012 2131.933 81.3\n",
       "31 207 Korea       2013 2224.629 81.8\n",
       "32 208 Korea       2014 2361.440 82.2\n",
       "33 209 Korea       2015 2487.939   NA\n",
       "34 243 Netherlands 2005 3510.905 79.5\n",
       "35 244 Netherlands 2006 3797.268 79.9\n",
       "36 245 Netherlands 2007 4066.134 80.3\n",
       "37 246 Netherlands 2008 4398.274 80.5\n",
       "38 247 Netherlands 2009 4550.465 80.8\n",
       "39 248 Netherlands 2010 4671.010 81.0\n",
       "40 249 Netherlands 2011 4862.459 81.3\n",
       "41 250 Netherlands 2012 5044.265 81.2\n",
       "42 251 Netherlands 2013 5250.306 81.4\n",
       "43 252 Netherlands 2014 5276.600 81.8\n",
       "44 253 Netherlands 2015 5342.674   NA\n",
       "45 320 Spain       2005 2139.333 80.3\n",
       "46 321 Spain       2006 2393.307 81.1\n",
       "47 322 Spain       2007 2570.706 81.2\n",
       "48 323 Spain       2008 2795.869 81.5\n",
       "49 324 Spain       2009 2944.620 81.9\n",
       "50 325 Spain       2010 2917.950 82.4\n",
       "51 326 Spain       2011 2956.786 82.6\n",
       "52 327 Spain       2012 2929.357 82.5\n",
       "53 328 Spain       2013 2952.175 83.2\n",
       "54 329 Spain       2014 3053.075 83.3\n",
       "55 330 Spain       2015 3152.987   NA"
      ]
     },
     "metadata": {},
     "output_type": "display_data"
    }
   ],
   "source": [
    "graph2"
   ]
  },
  {
   "cell_type": "code",
   "execution_count": 10,
   "metadata": {
    "collapsed": false
   },
   "outputs": [
    {
     "data": {},
     "metadata": {},
     "output_type": "display_data"
    },
    {
     "data": {
      "image/png": "[encoded data removed]",
      "text/plain": [
       "plot without title"
      ]
     },
     "metadata": {},
     "output_type": "display_data"
    }
   ],
   "source": [
    "ggplot(graph2, aes(x = Year, y = Cost, col = Country)) + geom_line() + scale_x_continuous(breaks = seq(2005,2015,1))"
   ]
  },
  {
   "cell_type": "markdown",
   "metadata": {},
   "source": [
    "## Efficiency scores\n",
    "\n",
    "The last assignment is to compute simple effiency scores. We will use the year 2014 for all countries (i.e. the dataframe \"graph1\").\n",
    "Make a new dateframe called \"eff\" (using graph1). Please use the \"pipe\" to execute to following steps:\n",
    "Select all the variables except the NA's (hint: use na.omit) and create a new column called \"Ratio\" with mutate. Ratio is defined as \"Cost/LE\" (cost per output).\n",
    "Create a new column called \"Score\" with mutate. Score is the ratio per country divided by the lowest ratio in the dataframe.\n",
    "To complete this dataframe order the dataset using \"arrange\" based on score (i.e. lowest Score first).\n",
    "\n",
    "\n",
    "Finally make a bar chart using ggplot. Countries should be on the x-axis and \"Score\" on the y-axis. \n",
    "\n",
    "\n",
    "\n",
    "You can earn extra points if you are able to order the graph based on scores (lowest first, highest last), if you are able to make the x-axis readable, make the bar of the Netherlands red and the other bars blue and/or change the name of the y-axis to \"Efficiency scores according to [your name]\" \n",
    "\n",
    "\n",
    "The figure should like this:\n",
    "\n",
    "![My Figure](eff.png)"
   ]
  },
  {
   "cell_type": "code",
   "execution_count": 30,
   "metadata": {
    "collapsed": false
   },
   "outputs": [
    {
     "data": {
      "text/html": [
       "<table>\n",
       "<thead><tr><th scope=col>X</th><th scope=col>Country</th><th scope=col>Year</th><th scope=col>Cost</th><th scope=col>LE</th><th scope=col>Ratio</th><th scope=col>Score</th></tr></thead>\n",
       "<tbody>\n",
       "\t<tr><td>384            </td><td>United States  </td><td>2014           </td><td>9024.2064      </td><td>78.8           </td><td>114.52         </td><td>0.11           </td></tr>\n",
       "\t<tr><td>230            </td><td>Luxembourg     </td><td>2014           </td><td>6682.2370      </td><td>82.3           </td><td> 81.19         </td><td>0.16           </td></tr>\n",
       "\t<tr><td>351            </td><td>Switzerland    </td><td>2014           </td><td>6786.5657      </td><td>83.3           </td><td> 81.47         </td><td>0.16           </td></tr>\n",
       "\t<tr><td>274            </td><td>Norway         </td><td>2014           </td><td>6080.9980      </td><td>82.2           </td><td> 73.98         </td><td>0.17           </td></tr>\n",
       "\t<tr><td>120            </td><td>Germany        </td><td>2014           </td><td>5119.2146      </td><td>81.2           </td><td> 63.04         </td><td>0.20           </td></tr>\n",
       "\t<tr><td>252            </td><td>Netherlands    </td><td>2014           </td><td>5276.6003      </td><td>81.8           </td><td> 64.51         </td><td>0.20           </td></tr>\n",
       "\t<tr><td> 21            </td><td>Austria        </td><td>2014           </td><td>4895.9992      </td><td>81.6           </td><td> 60.00         </td><td>0.21           </td></tr>\n",
       "\t<tr><td> 76            </td><td>Denmark        </td><td>2014           </td><td>4857.0285      </td><td>80.8           </td><td> 60.11         </td><td>0.21           </td></tr>\n",
       "\t<tr><td>164            </td><td>Ireland        </td><td>2014           </td><td>5001.3220      </td><td>81.4           </td><td> 61.44         </td><td>0.21           </td></tr>\n",
       "\t<tr><td>340            </td><td>Sweden         </td><td>2014           </td><td>5065.1613      </td><td>82.3           </td><td> 61.55         </td><td>0.21           </td></tr>\n",
       "\t<tr><td> 32            </td><td>Belgium        </td><td>2014           </td><td>4522.0450      </td><td>81.4           </td><td> 55.55         </td><td>0.23           </td></tr>\n",
       "\t<tr><td>109            </td><td>France         </td><td>2014           </td><td>4366.9864      </td><td>82.8           </td><td> 52.74         </td><td>0.24           </td></tr>\n",
       "\t<tr><td> 10            </td><td>Australia      </td><td>2014           </td><td>4206.8516      </td><td>82.4           </td><td> 51.05         </td><td>0.25           </td></tr>\n",
       "\t<tr><td>197            </td><td>Japan          </td><td>2014           </td><td>4152.3727      </td><td>83.7           </td><td> 49.61         </td><td>0.26           </td></tr>\n",
       "\t<tr><td>373            </td><td>United Kingdom </td><td>2014           </td><td>3971.3940      </td><td>81.4           </td><td> 48.79         </td><td>0.26           </td></tr>\n",
       "\t<tr><td> 98            </td><td>Finland        </td><td>2014           </td><td>3870.4000      </td><td>81.3           </td><td> 47.61         </td><td>0.27           </td></tr>\n",
       "\t<tr><td>153            </td><td>Iceland        </td><td>2014           </td><td>3896.9251      </td><td>82.9           </td><td> 47.01         </td><td>0.27           </td></tr>\n",
       "\t<tr><td>263            </td><td>New Zealand    </td><td>2014           </td><td>3537.2568      </td><td>81.6           </td><td> 43.35         </td><td>0.29           </td></tr>\n",
       "\t<tr><td>186            </td><td>Italy          </td><td>2014           </td><td>3206.8286      </td><td>83.2           </td><td> 38.54         </td><td>0.33           </td></tr>\n",
       "\t<tr><td>329            </td><td>Spain          </td><td>2014           </td><td>3053.0745      </td><td>83.3           </td><td> 36.65         </td><td>0.35           </td></tr>\n",
       "\t<tr><td>296            </td><td>Portugal       </td><td>2014           </td><td>2583.8438      </td><td>81.2           </td><td> 31.82         </td><td>0.40           </td></tr>\n",
       "\t<tr><td>318            </td><td>Slovenia       </td><td>2014           </td><td>2598.9066      </td><td>81.2           </td><td> 32.01         </td><td>0.40           </td></tr>\n",
       "\t<tr><td>175            </td><td>Israel         </td><td>2014           </td><td>2547.4010      </td><td>82.2           </td><td> 30.99         </td><td>0.41           </td></tr>\n",
       "\t<tr><td> 65            </td><td>Czech Republic </td><td>2014           </td><td>2386.3385      </td><td>78.9           </td><td> 30.25         </td><td>0.42           </td></tr>\n",
       "\t<tr><td>208            </td><td>Korea          </td><td>2014           </td><td>2361.4400      </td><td>82.2           </td><td> 28.73         </td><td>0.44           </td></tr>\n",
       "\t<tr><td>131            </td><td>Greece         </td><td>2014           </td><td>2220.1065      </td><td>81.5           </td><td> 27.24         </td><td>0.47           </td></tr>\n",
       "\t<tr><td>307            </td><td>Slovak Republic</td><td>2014           </td><td>1970.5230      </td><td>76.9           </td><td> 25.62         </td><td>0.50           </td></tr>\n",
       "\t<tr><td>142            </td><td>Hungary        </td><td>2014           </td><td>1796.6034      </td><td>75.9           </td><td> 23.67         </td><td>0.54           </td></tr>\n",
       "\t<tr><td> 87            </td><td>Estonia        </td><td>2014           </td><td>1724.5100      </td><td>77.2           </td><td> 22.34         </td><td>0.57           </td></tr>\n",
       "\t<tr><td> 54            </td><td>Chile          </td><td>2014           </td><td>1688.5233      </td><td>79.0           </td><td> 21.37         </td><td>0.59           </td></tr>\n",
       "\t<tr><td>285            </td><td>Poland         </td><td>2014           </td><td>1624.8655      </td><td>77.7           </td><td> 20.91         </td><td>0.61           </td></tr>\n",
       "\t<tr><td>219            </td><td>Latvia         </td><td>2014           </td><td>1295.0128      </td><td>74.3           </td><td> 17.43         </td><td>0.73           </td></tr>\n",
       "\t<tr><td>241            </td><td>Mexico         </td><td>2014           </td><td>1035.3389      </td><td>74.8           </td><td> 13.84         </td><td>0.92           </td></tr>\n",
       "\t<tr><td>362            </td><td>Turkey         </td><td>2014           </td><td> 990.1908      </td><td>78.0           </td><td> 12.69         </td><td>1.00           </td></tr>\n",
       "</tbody>\n",
       "</table>\n"
      ],
      "text/latex": [
       "\\begin{tabular}{r|lllllll}\n",
       " X & Country & Year & Cost & LE & Ratio & Score\\\\\n",
       "\\hline\n",
       "\t 384             & United States   & 2014            & 9024.2064       & 78.8            & 114.52          & 0.11           \\\\\n",
       "\t 230             & Luxembourg      & 2014            & 6682.2370       & 82.3            &  81.19          & 0.16           \\\\\n",
       "\t 351             & Switzerland     & 2014            & 6786.5657       & 83.3            &  81.47          & 0.16           \\\\\n",
       "\t 274             & Norway          & 2014            & 6080.9980       & 82.2            &  73.98          & 0.17           \\\\\n",
       "\t 120             & Germany         & 2014            & 5119.2146       & 81.2            &  63.04          & 0.20           \\\\\n",
       "\t 252             & Netherlands     & 2014            & 5276.6003       & 81.8            &  64.51          & 0.20           \\\\\n",
       "\t  21             & Austria         & 2014            & 4895.9992       & 81.6            &  60.00          & 0.21           \\\\\n",
       "\t  76             & Denmark         & 2014            & 4857.0285       & 80.8            &  60.11          & 0.21           \\\\\n",
       "\t 164             & Ireland         & 2014            & 5001.3220       & 81.4            &  61.44          & 0.21           \\\\\n",
       "\t 340             & Sweden          & 2014            & 5065.1613       & 82.3            &  61.55          & 0.21           \\\\\n",
       "\t  32             & Belgium         & 2014            & 4522.0450       & 81.4            &  55.55          & 0.23           \\\\\n",
       "\t 109             & France          & 2014            & 4366.9864       & 82.8            &  52.74          & 0.24           \\\\\n",
       "\t  10             & Australia       & 2014            & 4206.8516       & 82.4            &  51.05          & 0.25           \\\\\n",
       "\t 197             & Japan           & 2014            & 4152.3727       & 83.7            &  49.61          & 0.26           \\\\\n",
       "\t 373             & United Kingdom  & 2014            & 3971.3940       & 81.4            &  48.79          & 0.26           \\\\\n",
       "\t  98             & Finland         & 2014            & 3870.4000       & 81.3            &  47.61          & 0.27           \\\\\n",
       "\t 153             & Iceland         & 2014            & 3896.9251       & 82.9            &  47.01          & 0.27           \\\\\n",
       "\t 263             & New Zealand     & 2014            & 3537.2568       & 81.6            &  43.35          & 0.29           \\\\\n",
       "\t 186             & Italy           & 2014            & 3206.8286       & 83.2            &  38.54          & 0.33           \\\\\n",
       "\t 329             & Spain           & 2014            & 3053.0745       & 83.3            &  36.65          & 0.35           \\\\\n",
       "\t 296             & Portugal        & 2014            & 2583.8438       & 81.2            &  31.82          & 0.40           \\\\\n",
       "\t 318             & Slovenia        & 2014            & 2598.9066       & 81.2            &  32.01          & 0.40           \\\\\n",
       "\t 175             & Israel          & 2014            & 2547.4010       & 82.2            &  30.99          & 0.41           \\\\\n",
       "\t  65             & Czech Republic  & 2014            & 2386.3385       & 78.9            &  30.25          & 0.42           \\\\\n",
       "\t 208             & Korea           & 2014            & 2361.4400       & 82.2            &  28.73          & 0.44           \\\\\n",
       "\t 131             & Greece          & 2014            & 2220.1065       & 81.5            &  27.24          & 0.47           \\\\\n",
       "\t 307             & Slovak Republic & 2014            & 1970.5230       & 76.9            &  25.62          & 0.50           \\\\\n",
       "\t 142             & Hungary         & 2014            & 1796.6034       & 75.9            &  23.67          & 0.54           \\\\\n",
       "\t  87             & Estonia         & 2014            & 1724.5100       & 77.2            &  22.34          & 0.57           \\\\\n",
       "\t  54             & Chile           & 2014            & 1688.5233       & 79.0            &  21.37          & 0.59           \\\\\n",
       "\t 285             & Poland          & 2014            & 1624.8655       & 77.7            &  20.91          & 0.61           \\\\\n",
       "\t 219             & Latvia          & 2014            & 1295.0128       & 74.3            &  17.43          & 0.73           \\\\\n",
       "\t 241             & Mexico          & 2014            & 1035.3389       & 74.8            &  13.84          & 0.92           \\\\\n",
       "\t 362             & Turkey          & 2014            &  990.1908       & 78.0            &  12.69          & 1.00           \\\\\n",
       "\\end{tabular}\n"
      ],
      "text/markdown": [
       "\n",
       "X | Country | Year | Cost | LE | Ratio | Score | \n",
       "|---|---|---|---|---|---|---|---|---|---|---|---|---|---|---|---|---|---|---|---|---|---|---|---|---|---|---|---|---|---|---|---|---|---|\n",
       "| 384             | United States   | 2014            | 9024.2064       | 78.8            | 114.52          | 0.11            | \n",
       "| 230             | Luxembourg      | 2014            | 6682.2370       | 82.3            |  81.19          | 0.16            | \n",
       "| 351             | Switzerland     | 2014            | 6786.5657       | 83.3            |  81.47          | 0.16            | \n",
       "| 274             | Norway          | 2014            | 6080.9980       | 82.2            |  73.98          | 0.17            | \n",
       "| 120             | Germany         | 2014            | 5119.2146       | 81.2            |  63.04          | 0.20            | \n",
       "| 252             | Netherlands     | 2014            | 5276.6003       | 81.8            |  64.51          | 0.20            | \n",
       "|  21             | Austria         | 2014            | 4895.9992       | 81.6            |  60.00          | 0.21            | \n",
       "|  76             | Denmark         | 2014            | 4857.0285       | 80.8            |  60.11          | 0.21            | \n",
       "| 164             | Ireland         | 2014            | 5001.3220       | 81.4            |  61.44          | 0.21            | \n",
       "| 340             | Sweden          | 2014            | 5065.1613       | 82.3            |  61.55          | 0.21            | \n",
       "|  32             | Belgium         | 2014            | 4522.0450       | 81.4            |  55.55          | 0.23            | \n",
       "| 109             | France          | 2014            | 4366.9864       | 82.8            |  52.74          | 0.24            | \n",
       "|  10             | Australia       | 2014            | 4206.8516       | 82.4            |  51.05          | 0.25            | \n",
       "| 197             | Japan           | 2014            | 4152.3727       | 83.7            |  49.61          | 0.26            | \n",
       "| 373             | United Kingdom  | 2014            | 3971.3940       | 81.4            |  48.79          | 0.26            | \n",
       "|  98             | Finland         | 2014            | 3870.4000       | 81.3            |  47.61          | 0.27            | \n",
       "| 153             | Iceland         | 2014            | 3896.9251       | 82.9            |  47.01          | 0.27            | \n",
       "| 263             | New Zealand     | 2014            | 3537.2568       | 81.6            |  43.35          | 0.29            | \n",
       "| 186             | Italy           | 2014            | 3206.8286       | 83.2            |  38.54          | 0.33            | \n",
       "| 329             | Spain           | 2014            | 3053.0745       | 83.3            |  36.65          | 0.35            | \n",
       "| 296             | Portugal        | 2014            | 2583.8438       | 81.2            |  31.82          | 0.40            | \n",
       "| 318             | Slovenia        | 2014            | 2598.9066       | 81.2            |  32.01          | 0.40            | \n",
       "| 175             | Israel          | 2014            | 2547.4010       | 82.2            |  30.99          | 0.41            | \n",
       "|  65             | Czech Republic  | 2014            | 2386.3385       | 78.9            |  30.25          | 0.42            | \n",
       "| 208             | Korea           | 2014            | 2361.4400       | 82.2            |  28.73          | 0.44            | \n",
       "| 131             | Greece          | 2014            | 2220.1065       | 81.5            |  27.24          | 0.47            | \n",
       "| 307             | Slovak Republic | 2014            | 1970.5230       | 76.9            |  25.62          | 0.50            | \n",
       "| 142             | Hungary         | 2014            | 1796.6034       | 75.9            |  23.67          | 0.54            | \n",
       "|  87             | Estonia         | 2014            | 1724.5100       | 77.2            |  22.34          | 0.57            | \n",
       "|  54             | Chile           | 2014            | 1688.5233       | 79.0            |  21.37          | 0.59            | \n",
       "| 285             | Poland          | 2014            | 1624.8655       | 77.7            |  20.91          | 0.61            | \n",
       "| 219             | Latvia          | 2014            | 1295.0128       | 74.3            |  17.43          | 0.73            | \n",
       "| 241             | Mexico          | 2014            | 1035.3389       | 74.8            |  13.84          | 0.92            | \n",
       "| 362             | Turkey          | 2014            |  990.1908       | 78.0            |  12.69          | 1.00            | \n",
       "\n",
       "\n"
      ],
      "text/plain": [
       "   X   Country         Year Cost      LE   Ratio  Score\n",
       "1  384 United States   2014 9024.2064 78.8 114.52 0.11 \n",
       "2  230 Luxembourg      2014 6682.2370 82.3  81.19 0.16 \n",
       "3  351 Switzerland     2014 6786.5657 83.3  81.47 0.16 \n",
       "4  274 Norway          2014 6080.9980 82.2  73.98 0.17 \n",
       "5  120 Germany         2014 5119.2146 81.2  63.04 0.20 \n",
       "6  252 Netherlands     2014 5276.6003 81.8  64.51 0.20 \n",
       "7   21 Austria         2014 4895.9992 81.6  60.00 0.21 \n",
       "8   76 Denmark         2014 4857.0285 80.8  60.11 0.21 \n",
       "9  164 Ireland         2014 5001.3220 81.4  61.44 0.21 \n",
       "10 340 Sweden          2014 5065.1613 82.3  61.55 0.21 \n",
       "11  32 Belgium         2014 4522.0450 81.4  55.55 0.23 \n",
       "12 109 France          2014 4366.9864 82.8  52.74 0.24 \n",
       "13  10 Australia       2014 4206.8516 82.4  51.05 0.25 \n",
       "14 197 Japan           2014 4152.3727 83.7  49.61 0.26 \n",
       "15 373 United Kingdom  2014 3971.3940 81.4  48.79 0.26 \n",
       "16  98 Finland         2014 3870.4000 81.3  47.61 0.27 \n",
       "17 153 Iceland         2014 3896.9251 82.9  47.01 0.27 \n",
       "18 263 New Zealand     2014 3537.2568 81.6  43.35 0.29 \n",
       "19 186 Italy           2014 3206.8286 83.2  38.54 0.33 \n",
       "20 329 Spain           2014 3053.0745 83.3  36.65 0.35 \n",
       "21 296 Portugal        2014 2583.8438 81.2  31.82 0.40 \n",
       "22 318 Slovenia        2014 2598.9066 81.2  32.01 0.40 \n",
       "23 175 Israel          2014 2547.4010 82.2  30.99 0.41 \n",
       "24  65 Czech Republic  2014 2386.3385 78.9  30.25 0.42 \n",
       "25 208 Korea           2014 2361.4400 82.2  28.73 0.44 \n",
       "26 131 Greece          2014 2220.1065 81.5  27.24 0.47 \n",
       "27 307 Slovak Republic 2014 1970.5230 76.9  25.62 0.50 \n",
       "28 142 Hungary         2014 1796.6034 75.9  23.67 0.54 \n",
       "29  87 Estonia         2014 1724.5100 77.2  22.34 0.57 \n",
       "30  54 Chile           2014 1688.5233 79.0  21.37 0.59 \n",
       "31 285 Poland          2014 1624.8655 77.7  20.91 0.61 \n",
       "32 219 Latvia          2014 1295.0128 74.3  17.43 0.73 \n",
       "33 241 Mexico          2014 1035.3389 74.8  13.84 0.92 \n",
       "34 362 Turkey          2014  990.1908 78.0  12.69 1.00 "
      ]
     },
     "metadata": {},
     "output_type": "display_data"
    }
   ],
   "source": [
    "eff <- graph1 %>%\n",
    "na.omit(graph1) %>%\n",
    "mutate(Ratio=round(Cost/LE, digits=2)) %>%\n",
    "mutate(Score=round(min(Ratio)/Ratio,digits=2)) %>%\n",
    "arrange(Score)\n",
    "eff"
   ]
  },
  {
   "cell_type": "code",
   "execution_count": 87,
   "metadata": {
    "collapsed": false
   },
   "outputs": [
    {
     "data": {},
     "metadata": {},
     "output_type": "display_data"
    },
    {
     "data": {
      "image/png": "[encoded data removed]",
      "text/plain": [
       "plot without title"
      ]
     },
     "metadata": {},
     "output_type": "display_data"
    }
   ],
   "source": [
    "Colors = c(\"blue\", \"blue\", \"blue\", \"blue\", \"blue\", \"red\", \"blue\", \"blue\",\n",
    "          \"blue\", \"blue\", \"blue\", \"blue\", \"blue\",\"blue\", \"blue\", \"blue\", \"blue\", \"blue\",\n",
    "          \"blue\", \"blue\", \"blue\", \"blue\", \"blue\",\"blue\", \"blue\", \"blue\", \"blue\", \"blue\",\n",
    "          \"blue\", \"blue\", \"blue\", \"blue\", \"blue\",\"blue\")\n",
    "\n",
    "ggplot(eff, aes(x= reorder(Country, Score), y=Score, fill=Country)) + geom_bar(stat=\"identity\", fill=Colors) +\n",
    "scale_x_discrete(\"Country\") + \n",
    "    scale_y_continuous(\"Efficiency score according to Sander Breepoel\") + \n",
    "theme(axis.text.x = element_text(angle = 60, hjust = 1))"
   ]
  },
  {
   "cell_type": "code",
   "execution_count": null,
   "metadata": {
    "collapsed": true
   },
   "outputs": [],
   "source": []
  }
 ],
 "metadata": {
  "anaconda-cloud": {},
  "kernelspec": {
   "display_name": "R",
   "language": "R",
   "name": "ir"
  },
  "language_info": {
   "codemirror_mode": "r",
   "file_extension": ".r",
   "mimetype": "text/x-r-source",
   "name": "R",
   "pygments_lexer": "r",
   "version": "3.3.2"
  }
 },
 "nbformat": 4,
 "nbformat_minor": 1
}
